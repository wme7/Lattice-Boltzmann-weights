{
 "cells": [
  {
   "cell_type": "markdown",
   "metadata": {},
   "source": [
    "# LB Weigths\n",
    "by Manuel A. Diaz @ NTU 2014\n",
    "\n",
    "Refs:\n",
    "1. He, X., & Luo, L. S. (1997). Theory of the lattice Boltzmann method: From the Boltzmann equation to the lattice Boltzmann equation. Physical review E, 56(6), 6811.\n",
    "2. Wagner, A. J. (2008). A practical introduction to the lattice Boltzmann method. Adt. notes for Statistical Mechanics, 463(2008), 663.\n",
    "3. Dellar, P. J. (2005). Lattice and discrete Boltzmann equations for fully compressible flow. Computational Fluid and Solid Mechanics, 632-635.\n",
    "4. Yang, L. M., Shu, C., & Wu, J. (2012). Development and comparative studies of three non-free parameter lattice Boltzmann models for simulation of compressible flows. Advances in Applied Mathematics and Mechanics, 4(4), 454-472."
   ]
  },
  {
   "cell_type": "markdown",
   "metadata": {},
   "source": [
    "## Preamble"
   ]
  },
  {
   "cell_type": "code",
   "execution_count": 35,
   "metadata": {},
   "outputs": [],
   "source": [
    "# Load numpy and everything from sympy\n",
    "import sympy as sp\n",
    "sp.init_printing(use_unicode=True, use_latex=True, fontsize='16pt')"
   ]
  },
  {
   "cell_type": "markdown",
   "metadata": {},
   "source": [
    "## D2Q9 & D3Q19 Lattice Weights [1]\n",
    "\n",
    "Here are the weights for the D2Q9 and D3Q19 lattices as given by He & Luo (1997) [1]."
   ]
  },
  {
   "cell_type": "code",
   "execution_count": 36,
   "metadata": {},
   "outputs": [],
   "source": [
    "# Basic simbolic variables\n",
    "rho, Rgas, T, D = sp.symbols('rho R T D')\n",
    "u_bold, xi_bold = sp.symbols('u xi', cls=sp.Symbol, bold=True)\n",
    "RT = Rgas * T"
   ]
  },
  {
   "cell_type": "code",
   "execution_count": 37,
   "metadata": {},
   "outputs": [
    {
     "data": {
      "image/png": "[encoded data removed]",
      "text/latex": [
       "$\\displaystyle \\rho \\left(2 \\pi R T\\right)^{- \\frac{D}{2}} e^{- \\frac{\\left(- u + \\xi\\right)^{2}}{2 R T}}$"
      ],
      "text/plain": [
       "                         2 \n",
       "           -D   -(-u + ξ)  \n",
       "           ───  ───────────\n",
       "            2      2⋅R⋅T   \n",
       "ρ⋅(2⋅π⋅R⋅T)   ⋅ℯ           "
      ]
     },
     "metadata": {},
     "output_type": "display_data"
    }
   ],
   "source": [
    "# Equilibrium distribution function\n",
    "amplitude = rho / (2 * sp.pi * RT)**(D/2)\n",
    "gaussian = sp.exp(-((xi_bold-u_bold)**2)/(2*RT))\n",
    "g = amplitude * gaussian\n",
    "display(g)"
   ]
  },
  {
   "cell_type": "code",
   "execution_count": 38,
   "metadata": {},
   "outputs": [
    {
     "name": "stdout",
     "output_type": "stream",
     "text": [
      "True\n"
     ]
    },
    {
     "data": {
      "image/png": "[encoded data removed]",
      "text/latex": [
       "$\\displaystyle \\rho \\left(2 \\pi R T\\right)^{- \\frac{D}{2}} \\cdot \\left(1 - \\frac{u^{2}}{2 R T} + \\frac{u \\xi}{R T} + \\frac{u^{2} \\xi^{2}}{2 R^{2} T^{2}}\\right) e^{- \\frac{\\xi^{2}}{2 R T}}$"
      ],
      "text/plain": [
       "                                               2 \n",
       "           -D                                -ξ  \n",
       "           ─── ⎛       2            2  2 ⎞  ─────\n",
       "            2  ⎜      u     u⋅ξ    u ⋅ξ  ⎟  2⋅R⋅T\n",
       "ρ⋅(2⋅π⋅R⋅T)   ⋅⎜1 - ───── + ─── + ───────⎟⋅ℯ     \n",
       "               ⎜    2⋅R⋅T   R⋅T      2  2⎟       \n",
       "               ⎝                  2⋅R ⋅T ⎠       "
      ]
     },
     "execution_count": 38,
     "metadata": {},
     "output_type": "execute_result"
    }
   ],
   "source": [
    "# Expand the gaussian distribution up to second order terms\n",
    "order = 2\n",
    "\n",
    "# Re-write the gaussian distribution as a product of three terms\n",
    "gaussian1 = sp.exp(-(xi_bold**2)/(2*RT))\n",
    "gaussian2 = sp.exp( (u_bold*xi_bold)/(RT))\n",
    "gaussian3 = sp.exp(-(u_bold**2)/(2*RT))\n",
    "print(gaussian.expand() == (gaussian1 * gaussian2 * gaussian3))\n",
    "\n",
    "# Expand the gaussian distribution up to second order terms\n",
    "g_LBM = amplitude * gaussian1 * \\\n",
    "    ((\n",
    "    gaussian2.series(u_bold, 0, order+1) * \n",
    "    gaussian3.series(u_bold, 0, order+1)\n",
    "    ).expand()).removeO()\n",
    "g_LBM"
   ]
  },
  {
   "cell_type": "code",
   "execution_count": 39,
   "metadata": {},
   "outputs": [
    {
     "data": {
      "image/png": "[encoded data removed]",
      "text/latex": [
       "$\\displaystyle \\frac{\\rho \\left(1 + \\frac{- u_{x}^{2} - u_{y}^{2}}{2 R T} + \\frac{u_{x} \\xi_{x} + u_{y} \\xi_{y}}{R T} + \\frac{u_{x}^{2} \\xi_{x}^{2} + 2 u_{x} u_{y} \\xi_{x} \\xi_{y} + u_{y}^{2} \\xi_{y}^{2}}{2 R^{2} T^{2}}\\right) e^{- \\frac{\\xi_{x}^{2} + \\xi_{y}^{2}}{2 R T}}}{2 \\pi R T}$"
      ],
      "text/plain": [
       "                                                                              \n",
       "                                                                              \n",
       "  ⎛        2      2                       2   2                        2    2⎞\n",
       "  ⎜    - uₓ  - u_y    uₓ⋅ξₓ + u_y⋅ξ_y   uₓ ⋅ξₓ  + 2⋅uₓ⋅u_y⋅ξₓ⋅ξ_y + u_y ⋅ξ_y ⎟\n",
       "ρ⋅⎜1 + ──────────── + ─────────────── + ─────────────────────────────────────⎟\n",
       "  ⎜       2⋅R⋅T             R⋅T                           2  2               ⎟\n",
       "  ⎝                                                    2⋅R ⋅T                ⎠\n",
       "──────────────────────────────────────────────────────────────────────────────\n",
       "                                           2⋅π⋅R⋅T                            \n",
       "\n",
       "   ⎛  2      2⎞ \n",
       "  -⎝ξₓ  + ξ_y ⎠ \n",
       "  ──────────────\n",
       "      2⋅R⋅T     \n",
       "⋅ℯ              \n",
       "                \n",
       "                \n",
       "────────────────\n",
       "                "
      ]
     },
     "execution_count": 39,
     "metadata": {},
     "output_type": "execute_result"
    }
   ],
   "source": [
    "# For 2D case (D=2) we have:\n",
    "ux, uy, xix, xiy = sp.symbols('u_x u_y xi_x xi_y')\n",
    "u = sp.Matrix([ux, uy])\n",
    "xi = sp.Matrix([xix, xiy])\n",
    "\n",
    "# Substitute the bold symbols\n",
    "g_LBM2D = g_LBM.subs(D, 2)\n",
    "g_LBM2D = g_LBM2D.subs(u_bold**2 * xi_bold**2, (u.dot(xi)**2).expand())\n",
    "g_LBM2D = g_LBM2D.subs(u_bold**2, u.dot(u))\n",
    "g_LBM2D = g_LBM2D.subs(u_bold * xi_bold, u.dot(xi))\n",
    "g_LBM2D = g_LBM2D.subs(xi_bold**2, xi.dot(xi))\n",
    "g_LBM2D"
   ]
  },
  {
   "cell_type": "code",
   "execution_count": 40,
   "metadata": {},
   "outputs": [
    {
     "data": {
      "image/png": "[encoded data removed]",
      "text/latex": [
       "$\\displaystyle \\left[ \\sqrt{\\pi}, \\  \\sqrt{\\pi}\\right]$"
      ],
      "text/plain": [
       "[√π, √π]"
      ]
     },
     "metadata": {},
     "output_type": "display_data"
    },
    {
     "data": {
      "image/png": "[encoded data removed]",
      "text/latex": [
       "$\\displaystyle \\left[ 0, \\  0\\right]$"
      ],
      "text/plain": [
       "[0, 0]"
      ]
     },
     "metadata": {},
     "output_type": "display_data"
    },
    {
     "data": {
      "image/png": "[encoded data removed]",
      "text/latex": [
       "$\\displaystyle \\left[ \\frac{\\sqrt{\\pi}}{2}, \\  \\frac{\\sqrt{\\pi}}{2}\\right]$"
      ],
      "text/plain": [
       "⎡√π  √π⎤\n",
       "⎢──, ──⎥\n",
       "⎣2   2 ⎦"
      ]
     },
     "metadata": {},
     "output_type": "display_data"
    },
    {
     "data": {
      "image/png": "[encoded data removed]",
      "text/latex": [
       "$\\displaystyle \\left[ 0, \\  0\\right]$"
      ],
      "text/plain": [
       "[0, 0]"
      ]
     },
     "metadata": {},
     "output_type": "display_data"
    },
    {
     "data": {
      "image/png": "[encoded data removed]",
      "text/latex": [
       "$\\displaystyle \\left[ \\frac{3 \\sqrt{\\pi}}{4}, \\  \\frac{3 \\sqrt{\\pi}}{4}\\right]$"
      ],
      "text/plain": [
       "⎡3⋅√π  3⋅√π⎤\n",
       "⎢────, ────⎥\n",
       "⎣ 4     4  ⎦"
      ]
     },
     "metadata": {},
     "output_type": "display_data"
    },
    {
     "data": {
      "image/png": "[encoded data removed]",
      "text/latex": [
       "$\\displaystyle \\left[ 0, \\  0\\right]$"
      ],
      "text/plain": [
       "[0, 0]"
      ]
     },
     "metadata": {},
     "output_type": "display_data"
    },
    {
     "data": {
      "image/png": "[encoded data removed]",
      "text/latex": [
       "$\\displaystyle \\left[ \\frac{15 \\sqrt{\\pi}}{8}, \\  \\frac{9 \\sqrt{\\pi}}{8}\\right]$"
      ],
      "text/plain": [
       "⎡15⋅√π  9⋅√π⎤\n",
       "⎢─────, ────⎥\n",
       "⎣  8     8  ⎦"
      ]
     },
     "metadata": {},
     "output_type": "display_data"
    }
   ],
   "source": [
    "# Gauss-Hermite quadrature rule\n",
    "zeta, m = sp.symbols('zeta m')\n",
    "\n",
    "# Symbolic integration (Exact)\n",
    "Iexact = sp.Lambda(m, sp.integrate(sp.exp(-zeta**2) * zeta**m, (zeta, -sp.oo, sp.oo)))\n",
    "\n",
    "# Abscissas & weights for the Gauss-Hermite quadrature\n",
    "x = sp.Matrix([-sp.sqrt(6) / 2, 0, sp.sqrt(6) / 2])\n",
    "w = sp.Matrix([sp.sqrt(sp.pi) / 6, 2 * sp.sqrt(sp.pi) / 3, sp.sqrt(sp.pi) / 6])\n",
    "\n",
    "# Numerical integration\n",
    "I = sp.Lambda(m, w.dot(x.applyfunc(lambda elem: elem**m)))\n",
    "\n",
    "# Compare the exact and numerical integration\n",
    "display([Iexact(0), I(0)])\n",
    "display([Iexact(1), I(1)])\n",
    "display([Iexact(2), I(2)])\n",
    "display([Iexact(3), I(3)])\n",
    "display([Iexact(4), I(4)])\n",
    "display([Iexact(5), I(5)]) # This is the maximum order we can integrate with this quadrature\n",
    "display([Iexact(6), I(6)]) # NOTE: observed the error for moment of order 6"
   ]
  },
  {
   "cell_type": "markdown",
   "metadata": {},
   "source": [
    "In [1], He & Lou identified the weights for the D2Q9 and D3Q27 lattices by comparing the continuous integral formulation with its numerical counter part using Guass Hermite quadrature rule. Provided that the integral factor is clearly identified, the weigths are explicitly obtained as:"
   ]
  },
  {
   "cell_type": "markdown",
   "metadata": {},
   "source": [
    "### D2Q9 Lattice"
   ]
  },
  {
   "cell_type": "code",
   "execution_count": 41,
   "metadata": {},
   "outputs": [
    {
     "data": {
      "image/png": "[encoded data removed]",
      "text/latex": [
       "$\\displaystyle \\left[ \\frac{4}{9}\\right]$"
      ],
      "text/plain": [
       "[4/9]"
      ]
     },
     "metadata": {},
     "output_type": "display_data"
    },
    {
     "data": {
      "image/png": "[encoded data removed]",
      "text/latex": [
       "$\\displaystyle \\left[ \\frac{1}{9}, \\  \\frac{1}{9}, \\  \\frac{1}{9}, \\  \\frac{1}{9}\\right]$"
      ],
      "text/plain": [
       "[1/9, 1/9, 1/9, 1/9]"
      ]
     },
     "metadata": {},
     "output_type": "display_data"
    },
    {
     "data": {
      "image/png": "[encoded data removed]",
      "text/latex": [
       "$\\displaystyle \\left[ \\frac{1}{36}, \\  \\frac{1}{36}, \\  \\frac{1}{36}, \\  \\frac{1}{36}\\right]$"
      ],
      "text/plain": [
       "[1/36, 1/36, 1/36, 1/36]"
      ]
     },
     "metadata": {},
     "output_type": "display_data"
    }
   ],
   "source": [
    "pi = sp.pi\n",
    "display([w[1] * w[1] / pi])\n",
    "display([w[1] * w[0] / pi, \n",
    "         w[0] * w[1] / pi, \n",
    "         w[1] * w[2] / pi, \n",
    "         w[2] * w[1] / pi])\n",
    "display([w[0] * w[0] / pi, \n",
    "         w[0] * w[2] / pi, \n",
    "         w[2] * w[0] / pi, \n",
    "         w[2] * w[2] / pi])"
   ]
  },
  {
   "cell_type": "markdown",
   "metadata": {},
   "source": [
    "### D3Q27 Lattice"
   ]
  },
  {
   "cell_type": "code",
   "execution_count": 42,
   "metadata": {},
   "outputs": [
    {
     "data": {
      "image/png": "[encoded data removed]",
      "text/latex": [
       "$\\displaystyle \\left[ \\frac{8}{27}\\right]$"
      ],
      "text/plain": [
       "[8/27]"
      ]
     },
     "metadata": {},
     "output_type": "display_data"
    },
    {
     "data": {
      "image/png": "[encoded data removed]",
      "text/latex": [
       "$\\displaystyle \\left[ \\frac{2}{27}, \\  \\frac{2}{27}, \\  \\frac{2}{27}, \\  \\frac{2}{27}, \\  \\frac{2}{27}, \\  \\frac{2}{27}\\right]$"
      ],
      "text/plain": [
       "[2/27, 2/27, 2/27, 2/27, 2/27, 2/27]"
      ]
     },
     "metadata": {},
     "output_type": "display_data"
    },
    {
     "data": {
      "image/png": "[encoded data removed]",
      "text/latex": [
       "$\\displaystyle \\left[ \\frac{1}{54}, \\  \\frac{1}{54}, \\  \\frac{1}{54}, \\  \\frac{1}{54}, \\  \\frac{1}{54}, \\  \\frac{1}{54}, \\  \\frac{1}{54}, \\  \\frac{1}{54}, \\  \\frac{1}{54}, \\  \\frac{1}{54}, \\  \\frac{1}{54}, \\  \\frac{1}{54}\\right]$"
      ],
      "text/plain": [
       "[1/54, 1/54, 1/54, 1/54, 1/54, 1/54, 1/54, 1/54, 1/54, 1/54, 1/54, 1/54]"
      ]
     },
     "metadata": {},
     "output_type": "display_data"
    },
    {
     "data": {
      "image/png": "[encoded data removed]",
      "text/latex": [
       "$\\displaystyle \\left[ \\frac{1}{216}, \\  \\frac{1}{216}, \\  \\frac{1}{216}, \\  \\frac{1}{216}, \\  \\frac{1}{216}, \\  \\frac{1}{216}, \\  \\frac{1}{216}, \\  \\frac{1}{216}\\right]$"
      ],
      "text/plain": [
       "[1/216, 1/216, 1/216, 1/216, 1/216, 1/216, 1/216, 1/216]"
      ]
     },
     "metadata": {},
     "output_type": "display_data"
    }
   ],
   "source": [
    "piPowThreeHalfs = sp.sqrt(sp.pi**3)\n",
    "display([w[1] * w[1] * w[1] / piPowThreeHalfs])\n",
    "display([w[1] * w[1] * w[0] / piPowThreeHalfs,\n",
    "         w[1] * w[1] * w[2] / piPowThreeHalfs,\n",
    "         w[0] * w[1] * w[1] / piPowThreeHalfs,\n",
    "         w[2] * w[1] * w[1] / piPowThreeHalfs,\n",
    "         w[1] * w[0] * w[1] / piPowThreeHalfs,\n",
    "         w[1] * w[2] * w[1] / piPowThreeHalfs]) \n",
    "display([w[1] * w[0] * w[0] / piPowThreeHalfs,\n",
    "         w[1] * w[2] * w[2] / piPowThreeHalfs,\n",
    "         w[0] * w[1] * w[0] / piPowThreeHalfs,\n",
    "         w[2] * w[1] * w[2] / piPowThreeHalfs,\n",
    "         w[0] * w[0] * w[1] / piPowThreeHalfs,\n",
    "         w[2] * w[0] * w[1] / piPowThreeHalfs,\n",
    "         w[1] * w[2] * w[0] / piPowThreeHalfs,\n",
    "         w[1] * w[0] * w[2] / piPowThreeHalfs,\n",
    "         w[2] * w[1] * w[0] / piPowThreeHalfs,\n",
    "         w[0] * w[1] * w[2] / piPowThreeHalfs,\n",
    "         w[0] * w[2] * w[1] / piPowThreeHalfs,\n",
    "         w[2] * w[0] * w[1] / piPowThreeHalfs]) \n",
    "display([w[0] * w[0] * w[0] / piPowThreeHalfs,\n",
    "         w[2] * w[0] * w[0] / piPowThreeHalfs,\n",
    "         w[0] * w[2] * w[0] / piPowThreeHalfs,\n",
    "         w[0] * w[0] * w[2] / piPowThreeHalfs,\n",
    "         w[2] * w[2] * w[0] / piPowThreeHalfs,\n",
    "         w[0] * w[2] * w[2] / piPowThreeHalfs,\n",
    "         w[2] * w[0] * w[2] / piPowThreeHalfs,\n",
    "         w[2] * w[2] * w[2] / piPowThreeHalfs])"
   ]
  },
  {
   "cell_type": "markdown",
   "metadata": {},
   "source": [
    "However, it there are more systematic ways to obtain the weights. For instance, in [2], Wagner proposed a method to obtain the weights by solving a linear system of equations. In [3], Yang et al. proposed a method to obtain the weights by minimizing the error between the continuous and discrete integral formulations."
   ]
  },
  {
   "cell_type": "markdown",
   "metadata": {},
   "source": [
    "## Moments of $f^{eq}$ : micro-velocities as invariants"
   ]
  },
  {
   "cell_type": "code",
   "execution_count": 43,
   "metadata": {},
   "outputs": [],
   "source": [
    "vx, ux = sp.symbols('v_x u_x', real=True)\n",
    "vy, uy = sp.symbols('v_y u_y', real=True)\n",
    "vz, uz = sp.symbols('v_z u_z', real=True)\n",
    "n, th = sp.symbols('n theta', positive=True, real=True)"
   ]
  },
  {
   "cell_type": "code",
   "execution_count": 44,
   "metadata": {},
   "outputs": [
    {
     "data": {
      "image/png": "[encoded data removed]",
      "text/latex": [
       "$\\displaystyle \\frac{\\sqrt{2} n e^{- \\frac{\\left(- u_{x} + v_{x}\\right)^{2}}{2 \\theta}} e^{- \\frac{\\left(- u_{y} + v_{y}\\right)^{2}}{2 \\theta}} e^{- \\frac{\\left(- u_{z} + v_{z}\\right)^{2}}{2 \\theta}}}{4 \\pi^{\\frac{3}{2}} \\theta^{\\frac{3}{2}}}$"
      ],
      "text/plain": [
       "                 2                2                2 \n",
       "      -(-uₓ + vₓ)    -(-u_y + v_y)    -(-u_z + v_z)  \n",
       "      ─────────────  ───────────────  ───────────────\n",
       "           2⋅θ             2⋅θ              2⋅θ      \n",
       "√2⋅n⋅ℯ             ⋅ℯ               ⋅ℯ               \n",
       "─────────────────────────────────────────────────────\n",
       "                        3/2  3/2                     \n",
       "                     4⋅π   ⋅θ                        "
      ]
     },
     "metadata": {},
     "output_type": "display_data"
    }
   ],
   "source": [
    "g = n / (2 * sp.pi * th)**(sp.Rational(3,2)) * \\\n",
    "    sp.exp(-((vx-ux)**2)/(2*th)) * \\\n",
    "        sp.exp(-((vy-uy)**2)/(2*th)) * \\\n",
    "            sp.exp(-((vz-uz)**2)/(2*th))\n",
    "display(g)"
   ]
  },
  {
   "cell_type": "code",
   "execution_count": 45,
   "metadata": {},
   "outputs": [
    {
     "data": {
      "image/png": "[encoded data removed]",
      "text/latex": [
       "$\\displaystyle n$"
      ],
      "text/plain": [
       "n"
      ]
     },
     "execution_count": 45,
     "metadata": {},
     "output_type": "execute_result"
    }
   ],
   "source": [
    "sp.integrate(\n",
    "    sp.integrate(\n",
    "        sp.integrate(g, (vz, -sp.oo, sp.oo)), (vy, -sp.oo, sp.oo)), (vx, -sp.oo, sp.oo))"
   ]
  },
  {
   "cell_type": "code",
   "execution_count": 46,
   "metadata": {},
   "outputs": [
    {
     "data": {
      "image/png": "[encoded data removed]",
      "text/latex": [
       "$\\displaystyle \\left[\\begin{matrix}n u_{x}\\\\n u_{y}\\\\n u_{z}\\end{matrix}\\right]$"
      ],
      "text/plain": [
       "⎡n⋅uₓ ⎤\n",
       "⎢     ⎥\n",
       "⎢n⋅u_y⎥\n",
       "⎢     ⎥\n",
       "⎣n⋅u_z⎦"
      ]
     },
     "execution_count": 46,
     "metadata": {},
     "output_type": "execute_result"
    }
   ],
   "source": [
    "v_bold = sp.Matrix([vx, vy, vz])\n",
    "sp.integrate(\n",
    "    sp.integrate(\n",
    "        sp.integrate(g * v_bold, (vz, -sp.oo, sp.oo)), (vy, -sp.oo, sp.oo)), (vx, -sp.oo, sp.oo))"
   ]
  },
  {
   "cell_type": "code",
   "execution_count": 47,
   "metadata": {},
   "outputs": [
    {
     "data": {
      "image/png": "[encoded data removed]",
      "text/latex": [
       "$\\displaystyle \\left[\\begin{matrix}n \\left(\\theta + u_{x}^{2}\\right) & n u_{x} u_{y} & n u_{x} u_{z}\\\\n u_{x} u_{y} & n \\left(\\theta + u_{y}^{2}\\right) & n u_{y} u_{z}\\\\n u_{x} u_{z} & n u_{y} u_{z} & n \\left(\\theta + u_{z}^{2}\\right)\\end{matrix}\\right]$"
      ],
      "text/plain": [
       "⎡  ⎛      2⎞                            ⎤\n",
       "⎢n⋅⎝θ + uₓ ⎠    n⋅uₓ⋅u_y      n⋅uₓ⋅u_z  ⎥\n",
       "⎢                                       ⎥\n",
       "⎢               ⎛       2⎞              ⎥\n",
       "⎢ n⋅uₓ⋅u_y    n⋅⎝θ + u_y ⎠   n⋅u_y⋅u_z  ⎥\n",
       "⎢                                       ⎥\n",
       "⎢                             ⎛       2⎞⎥\n",
       "⎣ n⋅uₓ⋅u_z     n⋅u_y⋅u_z    n⋅⎝θ + u_z ⎠⎦"
      ]
     },
     "execution_count": 47,
     "metadata": {},
     "output_type": "execute_result"
    }
   ],
   "source": [
    "V = v_bold * v_bold.T\n",
    "sp.integrate(\n",
    "    sp.integrate(\n",
    "        sp.integrate(g * V, (vz, -sp.oo, sp.oo)), (vy, -sp.oo, sp.oo)), (vx, -sp.oo, sp.oo)).simplify()"
   ]
  },
  {
   "cell_type": "code",
   "execution_count": 48,
   "metadata": {},
   "outputs": [
    {
     "data": {
      "image/png": "[encoded data removed]",
      "text/latex": [
       "$\\displaystyle \\left[\\begin{matrix}5 n \\theta u_{x} + n u_{x}^{3} + n u_{x} u_{y}^{2} + n u_{x} u_{z}^{2}\\\\5 n \\theta u_{y} + n u_{x}^{2} u_{y} + n u_{y}^{3} + n u_{y} u_{z}^{2}\\\\5 n \\theta u_{z} + n u_{x}^{2} u_{z} + n u_{y}^{2} u_{z} + n u_{z}^{3}\\end{matrix}\\right]$"
      ],
      "text/plain": [
       "⎡                3           2           2  ⎤\n",
       "⎢ 5⋅n⋅θ⋅uₓ + n⋅uₓ  + n⋅uₓ⋅u_y  + n⋅uₓ⋅u_z   ⎥\n",
       "⎢                                           ⎥\n",
       "⎢                2            3            2⎥\n",
       "⎢5⋅n⋅θ⋅u_y + n⋅uₓ ⋅u_y + n⋅u_y  + n⋅u_y⋅u_z ⎥\n",
       "⎢                                           ⎥\n",
       "⎢                2            2            3⎥\n",
       "⎣5⋅n⋅θ⋅u_z + n⋅uₓ ⋅u_z + n⋅u_y ⋅u_z + n⋅u_z ⎦"
      ]
     },
     "execution_count": 48,
     "metadata": {},
     "output_type": "execute_result"
    }
   ],
   "source": [
    "Vv = V * v_bold\n",
    "sp.integrate(\n",
    "    sp.integrate(\n",
    "        sp.integrate(g * Vv, (vz, -sp.oo, sp.oo)), (vy, -sp.oo, sp.oo)), (vx, -sp.oo, sp.oo)).simplify().expand()"
   ]
  },
  {
   "cell_type": "code",
   "execution_count": 49,
   "metadata": {},
   "outputs": [
    {
     "data": {
      "image/png": "[encoded data removed]",
      "text/latex": [
       "$\\displaystyle \\left[\\begin{matrix}5 n \\theta^{2} + 8 n \\theta u_{x}^{2} + n \\theta u_{y}^{2} + n \\theta u_{z}^{2} + n u_{x}^{4} + n u_{x}^{2} u_{y}^{2} + n u_{x}^{2} u_{z}^{2} & 7 n \\theta u_{x} u_{y} + n u_{x}^{3} u_{y} + n u_{x} u_{y}^{3} + n u_{x} u_{y} u_{z}^{2} & 7 n \\theta u_{x} u_{z} + n u_{x}^{3} u_{z} + n u_{x} u_{y}^{2} u_{z} + n u_{x} u_{z}^{3}\\\\7 n \\theta u_{x} u_{y} + n u_{x}^{3} u_{y} + n u_{x} u_{y}^{3} + n u_{x} u_{y} u_{z}^{2} & 5 n \\theta^{2} + n \\theta u_{x}^{2} + 8 n \\theta u_{y}^{2} + n \\theta u_{z}^{2} + n u_{x}^{2} u_{y}^{2} + n u_{y}^{4} + n u_{y}^{2} u_{z}^{2} & 7 n \\theta u_{y} u_{z} + n u_{x}^{2} u_{y} u_{z} + n u_{y}^{3} u_{z} + n u_{y} u_{z}^{3}\\\\7 n \\theta u_{x} u_{z} + n u_{x}^{3} u_{z} + n u_{x} u_{y}^{2} u_{z} + n u_{x} u_{z}^{3} & 7 n \\theta u_{y} u_{z} + n u_{x}^{2} u_{y} u_{z} + n u_{y}^{3} u_{z} + n u_{y} u_{z}^{3} & 5 n \\theta^{2} + n \\theta u_{x}^{2} + n \\theta u_{y}^{2} + 8 n \\theta u_{z}^{2} + n u_{x}^{2} u_{z}^{2} + n u_{y}^{2} u_{z}^{2} + n u_{z}^{4}\\end{matrix}\\right]$"
      ],
      "text/plain": [
       "⎡     2           2          2          2       4       2    2       2    2   \n",
       "⎢5⋅n⋅θ  + 8⋅n⋅θ⋅uₓ  + n⋅θ⋅u_y  + n⋅θ⋅u_z  + n⋅uₓ  + n⋅uₓ ⋅u_y  + n⋅uₓ ⋅u_z    \n",
       "⎢                                                                             \n",
       "⎢                              3               3               2              \n",
       "⎢           7⋅n⋅θ⋅uₓ⋅u_y + n⋅uₓ ⋅u_y + n⋅uₓ⋅u_y  + n⋅uₓ⋅u_y⋅u_z              5\n",
       "⎢                                                                             \n",
       "⎢                              3               2               3              \n",
       "⎣           7⋅n⋅θ⋅uₓ⋅u_z + n⋅uₓ ⋅u_z + n⋅uₓ⋅u_y ⋅u_z + n⋅uₓ⋅u_z               \n",
       "\n",
       "                              3               3               2               \n",
       "           7⋅n⋅θ⋅uₓ⋅u_y + n⋅uₓ ⋅u_y + n⋅uₓ⋅u_y  + n⋅uₓ⋅u_y⋅u_z                \n",
       "                                                                              \n",
       "    2         2            2          2       2    2        4        2    2   \n",
       "⋅n⋅θ  + n⋅θ⋅uₓ  + 8⋅n⋅θ⋅u_y  + n⋅θ⋅u_z  + n⋅uₓ ⋅u_y  + n⋅u_y  + n⋅u_y ⋅u_z    \n",
       "                                                                              \n",
       "                             2                3                3              \n",
       "         7⋅n⋅θ⋅u_y⋅u_z + n⋅uₓ ⋅u_y⋅u_z + n⋅u_y ⋅u_z + n⋅u_y⋅u_z              5\n",
       "\n",
       "                              3               2               3            ⎤\n",
       "           7⋅n⋅θ⋅uₓ⋅u_z + n⋅uₓ ⋅u_z + n⋅uₓ⋅u_y ⋅u_z + n⋅uₓ⋅u_z             ⎥\n",
       "                                                                           ⎥\n",
       "                             2                3                3           ⎥\n",
       "         7⋅n⋅θ⋅u_y⋅u_z + n⋅uₓ ⋅u_y⋅u_z + n⋅u_y ⋅u_z + n⋅u_y⋅u_z            ⎥\n",
       "                                                                           ⎥\n",
       "    2         2          2            2       2    2        2    2        4⎥\n",
       "⋅n⋅θ  + n⋅θ⋅uₓ  + n⋅θ⋅u_y  + 8⋅n⋅θ⋅u_z  + n⋅uₓ ⋅u_z  + n⋅u_y ⋅u_z  + n⋅u_z ⎦"
      ]
     },
     "execution_count": 49,
     "metadata": {},
     "output_type": "execute_result"
    }
   ],
   "source": [
    "Vv2 = V * v_bold.dot(v_bold)\n",
    "sp.integrate(\n",
    "    sp.integrate(\n",
    "        sp.integrate(g * Vv2, (vz, -sp.oo, sp.oo)), (vy, -sp.oo, sp.oo)), (vx, -sp.oo, sp.oo)).simplify().expand()"
   ]
  },
  {
   "cell_type": "code",
   "execution_count": 50,
   "metadata": {},
   "outputs": [
    {
     "data": {
      "image/png": "[encoded data removed]",
      "text/latex": [
       "$\\displaystyle 3 n \\theta + n u_{x}^{2} + n u_{y}^{2} + n u_{z}^{2}$"
      ],
      "text/plain": [
       "            2        2        2\n",
       "3⋅n⋅θ + n⋅uₓ  + n⋅u_y  + n⋅u_z "
      ]
     },
     "execution_count": 50,
     "metadata": {},
     "output_type": "execute_result"
    }
   ],
   "source": [
    "v2 = v_bold.dot(v_bold)\n",
    "sp.integrate(\n",
    "    sp.integrate(\n",
    "        sp.integrate(g * v2, (vz, -sp.oo, sp.oo)), (vy, -sp.oo, sp.oo)), (vx, -sp.oo, sp.oo)).simplify().expand()"
   ]
  },
  {
   "cell_type": "markdown",
   "metadata": {},
   "source": [
    "## Moments of $f^{eq}$ : peculiar-velocities as invariants"
   ]
  },
  {
   "cell_type": "code",
   "execution_count": 51,
   "metadata": {},
   "outputs": [],
   "source": [
    "cx = sp.symbols('c_x', real=True)\n",
    "cy = sp.symbols('c_y', real=True)\n",
    "cz = sp.symbols('c_z', real=True)\n",
    "n, th = sp.symbols('n theta', positive=True, real=True)"
   ]
  },
  {
   "cell_type": "code",
   "execution_count": 52,
   "metadata": {},
   "outputs": [
    {
     "data": {
      "image/png": "[encoded data removed]",
      "text/latex": [
       "$\\displaystyle \\frac{\\sqrt{2} n e^{- \\frac{c_{x}^{2}}{2 \\theta}} e^{- \\frac{c_{y}^{2}}{2 \\theta}} e^{- \\frac{c_{z}^{2}}{2 \\theta}}}{4 \\pi^{\\frac{3}{2}} \\theta^{\\frac{3}{2}}}$"
      ],
      "text/plain": [
       "         2       2       2 \n",
       "      -cₓ    -c_y    -c_z  \n",
       "      ─────  ──────  ──────\n",
       "       2⋅θ    2⋅θ     2⋅θ  \n",
       "√2⋅n⋅ℯ     ⋅ℯ      ⋅ℯ      \n",
       "───────────────────────────\n",
       "           3/2  3/2        \n",
       "        4⋅π   ⋅θ           "
      ]
     },
     "metadata": {},
     "output_type": "display_data"
    }
   ],
   "source": [
    "g = n / (2 * sp.pi * th)**(sp.Rational(3,2)) * \\\n",
    "    sp.exp(-(cx**2)/(2*th)) * \\\n",
    "        sp.exp(-(cy**2)/(2*th)) * \\\n",
    "            sp.exp(-(cz**2)/(2*th))\n",
    "display(g)"
   ]
  },
  {
   "cell_type": "code",
   "execution_count": 53,
   "metadata": {},
   "outputs": [
    {
     "data": {
      "image/png": "[encoded data removed]",
      "text/latex": [
       "$\\displaystyle n$"
      ],
      "text/plain": [
       "n"
      ]
     },
     "execution_count": 53,
     "metadata": {},
     "output_type": "execute_result"
    }
   ],
   "source": [
    "sp.integrate(\n",
    "    sp.integrate(\n",
    "        sp.integrate(g, (cz, -sp.oo, sp.oo)), (cy, -sp.oo, sp.oo)), (cx, -sp.oo, sp.oo))"
   ]
  },
  {
   "cell_type": "code",
   "execution_count": 54,
   "metadata": {},
   "outputs": [
    {
     "data": {
      "image/png": "[encoded data removed]",
      "text/latex": [
       "$\\displaystyle \\left[\\begin{matrix}0\\\\0\\\\0\\end{matrix}\\right]$"
      ],
      "text/plain": [
       "⎡0⎤\n",
       "⎢ ⎥\n",
       "⎢0⎥\n",
       "⎢ ⎥\n",
       "⎣0⎦"
      ]
     },
     "execution_count": 54,
     "metadata": {},
     "output_type": "execute_result"
    }
   ],
   "source": [
    "c_bold = sp.Matrix([cx, cy, cz])\n",
    "sp.integrate(\n",
    "    sp.integrate(\n",
    "        sp.integrate(g * c_bold, (cz, -sp.oo, sp.oo)), (cy, -sp.oo, sp.oo)), (cx, -sp.oo, sp.oo))"
   ]
  },
  {
   "cell_type": "code",
   "execution_count": 55,
   "metadata": {},
   "outputs": [
    {
     "data": {
      "image/png": "[encoded data removed]",
      "text/latex": [
       "$\\displaystyle \\left[\\begin{matrix}n \\theta & 0 & 0\\\\0 & n \\theta & 0\\\\0 & 0 & n \\theta\\end{matrix}\\right]$"
      ],
      "text/plain": [
       "⎡n⋅θ   0    0 ⎤\n",
       "⎢             ⎥\n",
       "⎢ 0   n⋅θ   0 ⎥\n",
       "⎢             ⎥\n",
       "⎣ 0    0   n⋅θ⎦"
      ]
     },
     "execution_count": 55,
     "metadata": {},
     "output_type": "execute_result"
    }
   ],
   "source": [
    "C = c_bold * c_bold.T\n",
    "sp.integrate(\n",
    "    sp.integrate(\n",
    "        sp.integrate(g * C, (cz, -sp.oo, sp.oo)), (cy, -sp.oo, sp.oo)), (cx, -sp.oo, sp.oo))"
   ]
  },
  {
   "cell_type": "code",
   "execution_count": 56,
   "metadata": {},
   "outputs": [
    {
     "data": {
      "image/png": "[encoded data removed]",
      "text/latex": [
       "$\\displaystyle \\left[\\begin{matrix}0\\\\0\\\\0\\end{matrix}\\right]$"
      ],
      "text/plain": [
       "⎡0⎤\n",
       "⎢ ⎥\n",
       "⎢0⎥\n",
       "⎢ ⎥\n",
       "⎣0⎦"
      ]
     },
     "execution_count": 56,
     "metadata": {},
     "output_type": "execute_result"
    }
   ],
   "source": [
    "Cc = C * c_bold\n",
    "sp.integrate(\n",
    "    sp.integrate(\n",
    "        sp.integrate(g * Cc, (cz, -sp.oo, sp.oo)), (cy, -sp.oo, sp.oo)), (cx, -sp.oo, sp.oo))"
   ]
  },
  {
   "cell_type": "code",
   "execution_count": 57,
   "metadata": {},
   "outputs": [
    {
     "data": {
      "image/png": "[encoded data removed]",
      "text/latex": [
       "$\\displaystyle \\left[\\begin{matrix}5 n \\theta^{2} & 0 & 0\\\\0 & 5 n \\theta^{2} & 0\\\\0 & 0 & 5 n \\theta^{2}\\end{matrix}\\right]$"
      ],
      "text/plain": [
       "⎡     2                ⎤\n",
       "⎢5⋅n⋅θ     0       0   ⎥\n",
       "⎢                      ⎥\n",
       "⎢             2        ⎥\n",
       "⎢  0     5⋅n⋅θ     0   ⎥\n",
       "⎢                      ⎥\n",
       "⎢                     2⎥\n",
       "⎣  0       0     5⋅n⋅θ ⎦"
      ]
     },
     "execution_count": 57,
     "metadata": {},
     "output_type": "execute_result"
    }
   ],
   "source": [
    "Cc2 = C * c_bold.dot(c_bold)\n",
    "sp.integrate(\n",
    "    sp.integrate(\n",
    "        sp.integrate(g * Cc2, (cz, -sp.oo, sp.oo)), (cy, -sp.oo, sp.oo)), (cx, -sp.oo, sp.oo))"
   ]
  },
  {
   "cell_type": "markdown",
   "metadata": {},
   "source": [
    "## D1Q5 Lattice Weights [2]\n",
    "\n",
    "Here I investigate the discrete formulation of a 1D equilibrium distribution function $f^{eq}$ for a D1Q5 lattice. This example is provided in Chapter 4 of [2]. Note: the equilibriun distribution is not obtained using the low-Mach number Equilibrium distribution function of isothermal LBM models. But rather, the equilibrium distribution is obtained by solving the linear system of equations for the weights."
   ]
  },
  {
   "cell_type": "code",
   "execution_count": 58,
   "metadata": {},
   "outputs": [],
   "source": [
    "# Define the symbols for this exercise\n",
    "v, u, c = sp.symbols('v, u, c', real=True)\n",
    "n, th = sp.symbols('n theta', positive=True, real=True)\n",
    "g = sp.symbols('g:5', real=True)"
   ]
  },
  {
   "cell_type": "code",
   "execution_count": 59,
   "metadata": {},
   "outputs": [
    {
     "data": {
      "image/png": "[encoded data removed]",
      "text/latex": [
       "$\\displaystyle \\frac{\\sqrt{2} n e^{- \\frac{c^{2}}{2 \\theta}}}{2 \\sqrt{\\pi} \\sqrt{\\theta}}$"
      ],
      "text/plain": [
       "        2 \n",
       "      -c  \n",
       "      ────\n",
       "      2⋅θ \n",
       "√2⋅n⋅ℯ    \n",
       "──────────\n",
       " 2⋅√π⋅√θ  "
      ]
     },
     "metadata": {},
     "output_type": "display_data"
    }
   ],
   "source": [
    "# Define the 1D version of a Gaussian distribution function\n",
    "g1D = n / (2 * sp.pi * th)**(sp.Rational(1,2)) * sp.exp(-(c**2)/(2*th)) \n",
    "display(g1D)"
   ]
  },
  {
   "cell_type": "code",
   "execution_count": 60,
   "metadata": {},
   "outputs": [
    {
     "data": {
      "image/png": "[encoded data removed]",
      "text/latex": [
       "$\\displaystyle \\left[\\begin{matrix}n\\\\0\\\\n \\theta\\\\0\\\\3 n \\theta^{2}\\end{matrix}\\right]$"
      ],
      "text/plain": [
       "⎡  n   ⎤\n",
       "⎢      ⎥\n",
       "⎢  0   ⎥\n",
       "⎢      ⎥\n",
       "⎢ n⋅θ  ⎥\n",
       "⎢      ⎥\n",
       "⎢  0   ⎥\n",
       "⎢      ⎥\n",
       "⎢     2⎥\n",
       "⎣3⋅n⋅θ ⎦"
      ]
     },
     "metadata": {},
     "output_type": "display_data"
    }
   ],
   "source": [
    "# The first 5 integral moments (they become our solution vector: rhs) :\n",
    "C = sp.Matrix([c**i for i in range(5)])\n",
    "rhs = sp.integrate(g1D * C, (c, -sp.oo, sp.oo))\n",
    "display(rhs)"
   ]
  },
  {
   "cell_type": "code",
   "execution_count": 61,
   "metadata": {},
   "outputs": [],
   "source": [
    "g = sp.Matrix(g)\n",
    "v = sp.Matrix([-2*c, -c, 0, c, 2*c])"
   ]
  },
  {
   "cell_type": "code",
   "execution_count": 62,
   "metadata": {},
   "outputs": [],
   "source": [
    "A = sp.Matrix([\n",
    "    [1, (v[0] - u), (v[0] - u)**2, (v[0] - u)**3, (v[0] - u)**4], \\\n",
    "    [1, (v[1] - u), (v[1] - u)**2, (v[1] - u)**3, (v[1] - u)**4], \\\n",
    "    [1, (v[2] - u), (v[2] - u)**2, (v[2] - u)**3, (v[2] - u)**4], \\\n",
    "    [1, (v[3] - u), (v[3] - u)**2, (v[3] - u)**3, (v[3] - u)**4], \\\n",
    "    [1, (v[4] - u), (v[4] - u)**2, (v[4] - u)**3, (v[4] - u)**4]]).T\n",
    "\n",
    "g = A.inv() * rhs"
   ]
  },
  {
   "cell_type": "code",
   "execution_count": 63,
   "metadata": {},
   "outputs": [
    {
     "data": {
      "image/png": "[encoded data removed]",
      "text/latex": [
       "$\\displaystyle \\frac{n \\left(4 c^{4} - 5 c^{2} \\left(\\theta + u^{2}\\right) + 3 \\theta^{2} + 6 \\theta u^{2} + u^{4}\\right)}{4 c^{4}}$"
      ],
      "text/plain": [
       "  ⎛   4      2 ⎛     2⎞      2        2    4⎞\n",
       "n⋅⎝4⋅c  - 5⋅c ⋅⎝θ + u ⎠ + 3⋅θ  + 6⋅θ⋅u  + u ⎠\n",
       "─────────────────────────────────────────────\n",
       "                        4                    \n",
       "                     4⋅c                     "
      ]
     },
     "metadata": {},
     "output_type": "display_data"
    },
    {
     "data": {
      "image/png": "[encoded data removed]",
      "text/latex": [
       "$\\displaystyle \\frac{n \\left(4 c^{3} u + 4 c^{2} \\left(\\theta + u^{2}\\right) - c u \\left(3 \\theta + u^{2}\\right) - 3 \\theta^{2} - 6 \\theta u^{2} - u^{4}\\right)}{6 c^{4}}$"
      ],
      "text/plain": [
       "  ⎛   3        2 ⎛     2⎞       ⎛       2⎞      2        2    4⎞\n",
       "n⋅⎝4⋅c ⋅u + 4⋅c ⋅⎝θ + u ⎠ - c⋅u⋅⎝3⋅θ + u ⎠ - 3⋅θ  - 6⋅θ⋅u  - u ⎠\n",
       "────────────────────────────────────────────────────────────────\n",
       "                                 4                              \n",
       "                              6⋅c                               "
      ]
     },
     "metadata": {},
     "output_type": "display_data"
    },
    {
     "data": {
      "image/png": "[encoded data removed]",
      "text/latex": [
       "$\\displaystyle \\frac{n \\left(- 4 c^{3} u + 4 c^{2} \\left(\\theta + u^{2}\\right) + c u \\left(3 \\theta + u^{2}\\right) - 3 \\theta^{2} - 6 \\theta u^{2} - u^{4}\\right)}{6 c^{4}}$"
      ],
      "text/plain": [
       "  ⎛     3        2 ⎛     2⎞       ⎛       2⎞      2        2    4⎞\n",
       "n⋅⎝- 4⋅c ⋅u + 4⋅c ⋅⎝θ + u ⎠ + c⋅u⋅⎝3⋅θ + u ⎠ - 3⋅θ  - 6⋅θ⋅u  - u ⎠\n",
       "──────────────────────────────────────────────────────────────────\n",
       "                                  4                               \n",
       "                               6⋅c                                "
      ]
     },
     "metadata": {},
     "output_type": "display_data"
    },
    {
     "data": {
      "image/png": "[encoded data removed]",
      "text/latex": [
       "$\\displaystyle \\frac{n \\left(- 2 c^{3} u - c^{2} \\left(\\theta + u^{2}\\right) + 2 c u \\left(3 \\theta + u^{2}\\right) + 3 \\theta^{2} + 6 \\theta u^{2} + u^{4}\\right)}{24 c^{4}}$"
      ],
      "text/plain": [
       "  ⎛     3      2 ⎛     2⎞         ⎛       2⎞      2        2    4⎞\n",
       "n⋅⎝- 2⋅c ⋅u - c ⋅⎝θ + u ⎠ + 2⋅c⋅u⋅⎝3⋅θ + u ⎠ + 3⋅θ  + 6⋅θ⋅u  + u ⎠\n",
       "──────────────────────────────────────────────────────────────────\n",
       "                                  4                               \n",
       "                              24⋅c                                "
      ]
     },
     "metadata": {},
     "output_type": "display_data"
    },
    {
     "data": {
      "image/png": "[encoded data removed]",
      "text/latex": [
       "$\\displaystyle \\frac{n \\left(2 c^{3} u - c^{2} \\left(\\theta + u^{2}\\right) - 2 c u \\left(3 \\theta + u^{2}\\right) + 3 \\theta^{2} + 6 \\theta u^{2} + u^{4}\\right)}{24 c^{4}}$"
      ],
      "text/plain": [
       "  ⎛   3      2 ⎛     2⎞         ⎛       2⎞      2        2    4⎞\n",
       "n⋅⎝2⋅c ⋅u - c ⋅⎝θ + u ⎠ - 2⋅c⋅u⋅⎝3⋅θ + u ⎠ + 3⋅θ  + 6⋅θ⋅u  + u ⎠\n",
       "────────────────────────────────────────────────────────────────\n",
       "                                 4                              \n",
       "                             24⋅c                               "
      ]
     },
     "metadata": {},
     "output_type": "display_data"
    }
   ],
   "source": [
    "# Display the discrete equilibrium distribution function:\n",
    "display(g[2].expand().simplify())\n",
    "display(g[3].expand().simplify())\n",
    "display(g[1].expand().simplify())\n",
    "display(g[4].expand().simplify())\n",
    "display(g[0].expand().simplify())"
   ]
  },
  {
   "cell_type": "markdown",
   "metadata": {},
   "source": [
    "We have obtained the discrete equilibrium distribution function reported in [2] capable of handling the compressible flow of a 1-D lattice Boltzmann model using 5 discrete velocities."
   ]
  },
  {
   "cell_type": "markdown",
   "metadata": {},
   "source": [
    "## D1Q5 Lattice Weights [3]\n",
    "\n",
    "This is the D1Q5 reported by Paul Dellar [3] for solving compressible flows using a finite volume formulation of the lattice Boltzmann method."
   ]
  },
  {
   "cell_type": "code",
   "execution_count": 69,
   "metadata": {},
   "outputs": [],
   "source": [
    "# Define the symbols for this exercise\n",
    "xi, w, u, c = sp.symbols('xi, w, u, c', real=True)\n",
    "n, th = sp.symbols('n theta', positive=True, real=True)\n",
    "g = sp.symbols('g:5', real=True)"
   ]
  },
  {
   "cell_type": "code",
   "execution_count": 70,
   "metadata": {},
   "outputs": [
    {
     "data": {
      "image/png": "[encoded data removed]",
      "text/latex": [
       "$\\displaystyle \\frac{\\sqrt{2} \\rho e^{- \\frac{\\left(- u + \\xi\\right)^{2}}{2 \\theta}}}{2 \\sqrt{\\pi} \\sqrt{\\theta}}$"
      ],
      "text/plain": [
       "               2 \n",
       "      -(-u + ξ)  \n",
       "      ───────────\n",
       "          2⋅θ    \n",
       "√2⋅ρ⋅ℯ           \n",
       "─────────────────\n",
       "     2⋅√π⋅√θ     "
      ]
     },
     "metadata": {},
     "output_type": "display_data"
    }
   ],
   "source": [
    "# Define the 1D version of a Gaussian distribution function\n",
    "g1D = rho / (2 * sp.pi * th)**(sp.Rational(1,2)) * sp.exp(-((xi-u)**2)/(2*th))\n",
    "display(g1D)"
   ]
  },
  {
   "cell_type": "code",
   "execution_count": 71,
   "metadata": {},
   "outputs": [
    {
     "data": {
      "image/png": "[encoded data removed]",
      "text/latex": [
       "$\\displaystyle \\left[\\begin{matrix}\\rho\\\\\\rho u\\\\\\rho \\theta + \\rho u^{2}\\\\3 \\rho \\theta u + \\rho u^{3}\\\\3 \\rho \\theta^{2} + 6 \\rho \\theta u^{2} + \\rho u^{4}\\end{matrix}\\right]$"
      ],
      "text/plain": [
       "⎡           ρ            ⎤\n",
       "⎢                        ⎥\n",
       "⎢          ρ⋅u           ⎥\n",
       "⎢                        ⎥\n",
       "⎢                2       ⎥\n",
       "⎢       ρ⋅θ + ρ⋅u        ⎥\n",
       "⎢                        ⎥\n",
       "⎢                  3     ⎥\n",
       "⎢     3⋅ρ⋅θ⋅u + ρ⋅u      ⎥\n",
       "⎢                        ⎥\n",
       "⎢     2          2      4⎥\n",
       "⎣3⋅ρ⋅θ  + 6⋅ρ⋅θ⋅u  + ρ⋅u ⎦"
      ]
     },
     "metadata": {},
     "output_type": "display_data"
    }
   ],
   "source": [
    "# The first 5 integral moments (they become our solution vector: rhs) :\n",
    "XI = sp.Matrix([xi**i for i in range(5)])\n",
    "rhs = sp.integrate(g1D * XI, (xi, -sp.oo, sp.oo))\n",
    "display(rhs)"
   ]
  },
  {
   "cell_type": "code",
   "execution_count": 72,
   "metadata": {},
   "outputs": [],
   "source": [
    "g = sp.Matrix(g)\n",
    "W = sp.Matrix([1/12, 1/6, 1/2, 1/6, 1/12])\n",
    "V = sp.Matrix([-2, -1, 0, 1, 2]) # xi values"
   ]
  },
  {
   "cell_type": "code",
   "execution_count": 73,
   "metadata": {},
   "outputs": [
    {
     "data": {
      "image/png": "[encoded data removed]",
      "text/latex": [
       "$\\displaystyle \\rho w \\left(u \\xi + \\left(\\xi^{2} - 1\\right) \\left(\\frac{\\theta}{2} + \\frac{u^{2}}{2} - \\frac{1}{2}\\right) + \\left(\\xi^{3} - 3 \\xi\\right) \\left(\\frac{u \\left(3 \\theta + u^{2}\\right)}{2} - \\frac{3 u}{2}\\right) + \\left(\\xi^{4} - 4 \\xi^{2} + 1\\right) \\left(\\frac{3 \\theta^{2}}{2} + 3 \\theta u^{2} - 2 \\theta + \\frac{u^{4}}{2} - 2 u^{2} + \\frac{1}{2}\\right) + 1\\right)$"
      ],
      "text/plain": [
       "    ⎛               ⎛     2    ⎞              ⎛  ⎛       2⎞      ⎞            \n",
       "    ⎜      ⎛ 2    ⎞ ⎜θ   u    1⎟   ⎛ 3      ⎞ ⎜u⋅⎝3⋅θ + u ⎠   3⋅u⎟   ⎛ 4      \n",
       "ρ⋅w⋅⎜u⋅ξ + ⎝ξ  - 1⎠⋅⎜─ + ── - ─⎟ + ⎝ξ  - 3⋅ξ⎠⋅⎜──────────── - ───⎟ + ⎝ξ  - 4⋅ξ\n",
       "    ⎝               ⎝2   2    2⎠              ⎝     2          2 ⎠            \n",
       "\n",
       "       ⎛   2                   4           ⎞    ⎞\n",
       "2    ⎞ ⎜3⋅θ         2         u       2   1⎟    ⎟\n",
       "  + 1⎠⋅⎜──── + 3⋅θ⋅u  - 2⋅θ + ── - 2⋅u  + ─⎟ + 1⎟\n",
       "       ⎝ 2                    2           2⎠    ⎠"
      ]
     },
     "metadata": {},
     "output_type": "display_data"
    }
   ],
   "source": [
    "# The discrete equilibrium distribution function provided by Dellar in [3]:\n",
    "g0 = sp.Lambda((w,xi), rho * w * (1 + u * xi + \\\n",
    "                   0.5 * (th + u**2 - 1) * (xi**2 - 1) + \\\n",
    "                   0.5 * (u * (3 * th + u**2) - 3 * u ) * (xi**3  - 3 * xi) + \\\n",
    "                   0.5 * (3*th**2 + 6 * th * u**2 + u**4 - 4 * (th + u**2) + 1) * (xi**4 - 4 * xi**2 + 1)))\n",
    "\n",
    "w, xi = sp.symbols('w xi', real=True)\n",
    "display(g0(w, xi).nsimplify())"
   ]
  },
  {
   "cell_type": "code",
   "execution_count": 74,
   "metadata": {},
   "outputs": [
    {
     "data": {
      "image/png": "[encoded data removed]",
      "text/latex": [
       "$\\displaystyle \\left[ \\rho, \\  \\rho u, \\  \\rho \\theta + \\rho u^{2}, \\  3 \\rho \\theta u + \\rho u^{3}, \\  3 \\rho \\theta^{2} + 6 \\rho \\theta u^{2} + \\rho u^{4}\\right]$"
      ],
      "text/plain": [
       "⎡                 2               3       2          2      4⎤\n",
       "⎣ρ, ρ⋅u, ρ⋅θ + ρ⋅u , 3⋅ρ⋅θ⋅u + ρ⋅u , 3⋅ρ⋅θ  + 6⋅ρ⋅θ⋅u  + ρ⋅u ⎦"
      ]
     },
     "execution_count": 74,
     "metadata": {},
     "output_type": "execute_result"
    }
   ],
   "source": [
    "[(g0(W[0],V[0]) + g0(W[1],V[1]) + g0(W[2],V[2]) + g0(W[3],V[3]) + g0(W[4],V[4])).expand().nsimplify(tolerance=1e-10),\n",
    "(g0(W[0],V[0]) * V[0]**1 + g0(W[1],V[1]) * V[1]**1 + g0(W[2],V[2]) * V[2]**1 + g0(W[3],V[3]) * V[3]**1 + g0(W[4],V[4]) * V[4]**1).expand().nsimplify(),\n",
    "(g0(W[0],V[0]) * V[0]**2 + g0(W[1],V[1]) * V[1]**2 + g0(W[2],V[2]) * V[2]**2 + g0(W[3],V[3]) * V[3]**2 + g0(W[4],V[4]) * V[4]**2).expand().nsimplify(),\n",
    "(g0(W[0],V[0]) * V[0]**3 + g0(W[1],V[1]) * V[1]**3 + g0(W[2],V[2]) * V[2]**3 + g0(W[3],V[3]) * V[3]**3 + g0(W[4],V[4]) * V[4]**3).expand().nsimplify(),\n",
    "(g0(W[0],V[0]) * V[0]**4 + g0(W[1],V[1]) * V[1]**4 + g0(W[2],V[2]) * V[2]**4 + g0(W[3],V[3]) * V[3]**4 + g0(W[4],V[4]) * V[4]**4).expand().nsimplify()]"
   ]
  },
  {
   "cell_type": "markdown",
   "metadata": {},
   "source": [
    "The equilibrium distribution is works correctly!!\n",
    "But how was this equilibrium distribution obtained?"
   ]
  },
  {
   "cell_type": "code",
   "execution_count": 75,
   "metadata": {},
   "outputs": [
    {
     "data": {
      "image/png": "[encoded data removed]",
      "text/latex": [
       "$\\displaystyle \\left[\\begin{matrix}\\frac{\\rho \\left(3 \\theta^{2} + 6 \\theta u^{2} - 6 \\theta u - \\theta + u^{4} - 2 u^{3} - u^{2} + 2 u\\right)}{2}\\\\\\rho \\left(- 3 \\theta^{2} - 6 \\theta u^{2} + 3 \\theta u + 4 \\theta - u^{4} + u^{3} + 4 u^{2} - 4 u\\right)\\\\\\frac{\\rho \\left(3 \\theta^{2} + 6 \\theta u^{2} - 5 \\theta + u^{4} - 5 u^{2} + 4\\right)}{2}\\\\\\rho \\left(- 3 \\theta^{2} - 6 \\theta u^{2} - 3 \\theta u + 4 \\theta - u^{4} - u^{3} + 4 u^{2} + 4 u\\right)\\\\\\frac{\\rho \\left(3 \\theta^{2} + 6 \\theta u^{2} + 6 \\theta u - \\theta + u^{4} + 2 u^{3} - u^{2} - 2 u\\right)}{2}\\end{matrix}\\right]$"
      ],
      "text/plain": [
       "⎡    ⎛   2        2                4      3    2      ⎞  ⎤\n",
       "⎢  ρ⋅⎝3⋅θ  + 6⋅θ⋅u  - 6⋅θ⋅u - θ + u  - 2⋅u  - u  + 2⋅u⎠  ⎥\n",
       "⎢  ────────────────────────────────────────────────────  ⎥\n",
       "⎢                           2                            ⎥\n",
       "⎢                                                        ⎥\n",
       "⎢  ⎛     2        2                  4    3      2      ⎞⎥\n",
       "⎢ρ⋅⎝- 3⋅θ  - 6⋅θ⋅u  + 3⋅θ⋅u + 4⋅θ - u  + u  + 4⋅u  - 4⋅u⎠⎥\n",
       "⎢                                                        ⎥\n",
       "⎢          ⎛   2        2          4      2    ⎞         ⎥\n",
       "⎢        ρ⋅⎝3⋅θ  + 6⋅θ⋅u  - 5⋅θ + u  - 5⋅u  + 4⎠         ⎥\n",
       "⎢        ───────────────────────────────────────         ⎥\n",
       "⎢                           2                            ⎥\n",
       "⎢                                                        ⎥\n",
       "⎢  ⎛     2        2                  4    3      2      ⎞⎥\n",
       "⎢ρ⋅⎝- 3⋅θ  - 6⋅θ⋅u  - 3⋅θ⋅u + 4⋅θ - u  - u  + 4⋅u  + 4⋅u⎠⎥\n",
       "⎢                                                        ⎥\n",
       "⎢    ⎛   2        2                4      3    2      ⎞  ⎥\n",
       "⎢  ρ⋅⎝3⋅θ  + 6⋅θ⋅u  + 6⋅θ⋅u - θ + u  + 2⋅u  - u  - 2⋅u⎠  ⎥\n",
       "⎢  ────────────────────────────────────────────────────  ⎥\n",
       "⎣                           2                            ⎦"
      ]
     },
     "execution_count": 75,
     "metadata": {},
     "output_type": "execute_result"
    }
   ],
   "source": [
    "A = sp.Matrix([\n",
    "    [W[0], W[0]*V[0]**1, W[0]*V[0]**2, W[0]*V[0]**3, W[0]*V[0]**4], \\\n",
    "    [W[1], W[1]*V[1]**1, W[1]*V[1]**2, W[1]*V[1]**3, W[1]*V[1]**4], \\\n",
    "    [W[2], W[2]*V[2]**1, W[2]*V[2]**2, W[2]*V[2]**3, W[2]*V[2]**4], \\\n",
    "    [W[3], W[3]*V[3]**1, W[3]*V[3]**2, W[3]*V[3]**3, W[3]*V[3]**4], \\\n",
    "    [W[4], W[4]*V[4]**1, W[4]*V[4]**2, W[4]*V[4]**3, W[4]*V[4]**4]]).T\n",
    "\n",
    "g = A.inv() * rhs\n",
    "g.nsimplify(tolerance=1e-10).simplify()"
   ]
  },
  {
   "cell_type": "markdown",
   "metadata": {},
   "source": [
    "### NOTE: \n",
    "* From here a game of matching coefficients needs to be carried out in order to recover the formulation by Dellar [2].\n",
    "* This formulation is very similar to that obtained using Hermite polynomials expansion. I'll come back to this later."
   ]
  },
  {
   "cell_type": "markdown",
   "metadata": {},
   "source": [
    "## D1Q3, D1Q4 & D1Q5 Lattice Weights [4]\n",
    "\n",
    "In [4], Yang et al. proposed three 1D equilibrium distribution function $f^{eq}$ for D1Q3, D1Q4 and D1Q5 lattices to be used as flux for an unstructed finite volume solver for compressible flows."
   ]
  },
  {
   "cell_type": "code",
   "execution_count": 76,
   "metadata": {},
   "outputs": [],
   "source": [
    "# Define the symbols for this exercise\n",
    "xi, u, c = sp.symbols('xi, u, c', real=True)\n",
    "rho, th = sp.symbols('rho theta', positive=True, real=True)\n",
    "d, d1, d2 = sp.symbols('d d_1 d_2', positive=True, real=True)\n",
    "g = sp.symbols('g:7', real=True)"
   ]
  },
  {
   "cell_type": "code",
   "execution_count": 77,
   "metadata": {},
   "outputs": [
    {
     "data": {
      "image/png": "[encoded data removed]",
      "text/latex": [
       "$\\displaystyle \\frac{\\sqrt{2} \\rho e^{- \\frac{\\left(- u + \\xi\\right)^{2}}{2 \\theta}}}{2 \\sqrt{\\pi} \\sqrt{\\theta}}$"
      ],
      "text/plain": [
       "               2 \n",
       "      -(-u + ξ)  \n",
       "      ───────────\n",
       "          2⋅θ    \n",
       "√2⋅ρ⋅ℯ           \n",
       "─────────────────\n",
       "     2⋅√π⋅√θ     "
      ]
     },
     "metadata": {},
     "output_type": "display_data"
    }
   ],
   "source": [
    "# Define the 1D version of a Gaussian distribution function\n",
    "g1D = rho / (2 * sp.pi * th)**(sp.Rational(1,2)) * sp.exp(-((xi-u)**2)/(2*th))\n",
    "display(g1D)"
   ]
  },
  {
   "cell_type": "code",
   "execution_count": 78,
   "metadata": {},
   "outputs": [
    {
     "data": {
      "image/png": "[encoded data removed]",
      "text/latex": [
       "$\\displaystyle \\left[\\begin{matrix}\\rho\\\\\\rho u\\\\c^{2} \\rho + \\rho u^{2}\\\\3 c^{2} \\rho u + \\rho u^{3}\\\\3 c^{4} \\rho + 6 c^{2} \\rho u^{2} + \\rho u^{4}\\\\15 c^{4} \\rho u + 10 c^{2} \\rho u^{3} + \\rho u^{5}\\\\15 c^{6} \\rho + 45 c^{4} \\rho u^{2} + 15 c^{2} \\rho u^{4} + \\rho u^{6}\\end{matrix}\\right]$"
      ],
      "text/plain": [
       "⎡                   ρ                    ⎤\n",
       "⎢                                        ⎥\n",
       "⎢                  ρ⋅u                   ⎥\n",
       "⎢                                        ⎥\n",
       "⎢               2        2               ⎥\n",
       "⎢              c ⋅ρ + ρ⋅u                ⎥\n",
       "⎢                                        ⎥\n",
       "⎢               2          3             ⎥\n",
       "⎢            3⋅c ⋅ρ⋅u + ρ⋅u              ⎥\n",
       "⎢                                        ⎥\n",
       "⎢          4        2    2      4        ⎥\n",
       "⎢       3⋅c ⋅ρ + 6⋅c ⋅ρ⋅u  + ρ⋅u         ⎥\n",
       "⎢                                        ⎥\n",
       "⎢         4           2    3      5      ⎥\n",
       "⎢     15⋅c ⋅ρ⋅u + 10⋅c ⋅ρ⋅u  + ρ⋅u       ⎥\n",
       "⎢                                        ⎥\n",
       "⎢    6         4    2       2    4      6⎥\n",
       "⎣15⋅c ⋅ρ + 45⋅c ⋅ρ⋅u  + 15⋅c ⋅ρ⋅u  + ρ⋅u ⎦"
      ]
     },
     "metadata": {},
     "output_type": "display_data"
    }
   ],
   "source": [
    "# The first 5 integral moments (they become our solution vector: rhs) :\n",
    "C = sp.Matrix([xi**i for i in range(7)])\n",
    "rhs = sp.integrate(g1D * C, (xi, -sp.oo, sp.oo))\n",
    "rhs = rhs.subs(th, c**2)\n",
    "display(rhs)"
   ]
  },
  {
   "cell_type": "markdown",
   "metadata": {},
   "source": [
    "### D1Q3 Lattice"
   ]
  },
  {
   "cell_type": "code",
   "execution_count": 79,
   "metadata": {},
   "outputs": [
    {
     "data": {
      "image/png": "[encoded data removed]",
      "text/latex": [
       "$\\displaystyle \\left[ \\left( \\frac{2 c^{2} \\rho}{3 c^{2} + u^{2}}, \\  \\frac{\\rho \\left(3 c^{2} u + u^{3} + \\left(c^{2} + u^{2}\\right) \\sqrt{3 c^{2} + u^{2}}\\right)}{2 \\left(3 c^{2} + u^{2}\\right)^{\\frac{3}{2}}}, \\  \\frac{\\rho \\left(- 3 c^{2} u - u^{3} + \\left(c^{2} + u^{2}\\right) \\sqrt{3 c^{2} + u^{2}}\\right)}{2 \\left(3 c^{2} + u^{2}\\right)^{\\frac{3}{2}}}, \\  \\sqrt{3 c^{2} + u^{2}}\\right)\\right]$"
      ],
      "text/plain": [
       "⎡⎛             ⎛                           ___________⎞    ⎛                  \n",
       "⎢⎜     2       ⎜   2      3   ⎛ 2    2⎞   ╱    2    2 ⎟    ⎜     2      3   ⎛ \n",
       "⎢⎜  2⋅c ⋅ρ   ρ⋅⎝3⋅c ⋅u + u  + ⎝c  + u ⎠⋅╲╱  3⋅c  + u  ⎠  ρ⋅⎝- 3⋅c ⋅u - u  + ⎝c\n",
       "⎢⎜─────────, ──────────────────────────────────────────, ─────────────────────\n",
       "⎢⎜   2    2                            3/2                                    \n",
       "⎢⎜3⋅c  + u                  ⎛   2    2⎞                                  ⎛   2\n",
       "⎣⎝                        2⋅⎝3⋅c  + u ⎠                                2⋅⎝3⋅c \n",
       "\n",
       "           ___________⎞                ⎞⎤\n",
       "2    2⎞   ╱    2    2 ⎟     ___________⎟⎥\n",
       "  + u ⎠⋅╲╱  3⋅c  + u  ⎠    ╱    2    2 ⎟⎥\n",
       "───────────────────────, ╲╱  3⋅c  + u  ⎟⎥\n",
       "      3/2                              ⎟⎥\n",
       "    2⎞                                 ⎟⎥\n",
       " + u ⎠                                 ⎠⎦"
      ]
     },
     "metadata": {},
     "output_type": "display_data"
    }
   ],
   "source": [
    "eq1 = sp.Eq(rhs[0], g[0] + g[1] + g[2])\n",
    "eq2 = sp.Eq(rhs[1], g[1] * d**1 + g[2] * (-d)**1)\n",
    "eq3 = sp.Eq(rhs[2], g[1] * d**2 + g[2] * (-d)**2)\n",
    "eq4 = sp.Eq(rhs[3], g[1] * d**3 + g[2] * (-d)**3)\n",
    "sol_D1Q3 = sp.solve([eq1, eq2, eq3, eq4], g[0], g[1], g[2], d)\n",
    "display(sol_D1Q3)"
   ]
  },
  {
   "cell_type": "markdown",
   "metadata": {},
   "source": [
    "Yes, these are the weights for the D1Q3 lattice as reported in [4]."
   ]
  },
  {
   "cell_type": "markdown",
   "metadata": {},
   "source": [
    "### D1Q4 Lattice"
   ]
  },
  {
   "cell_type": "code",
   "execution_count": 80,
   "metadata": {},
   "outputs": [],
   "source": [
    "eq1 = sp.Eq(rhs[0], g[0] + g[1] + g[2] + g[3])\n",
    "eq2 = sp.Eq(rhs[1], g[0] * d1**1 + g[1] * (-d1)**1 + g[2] * d2**1 + g[3] * (-d2)**1)\n",
    "eq3 = sp.Eq(rhs[2], g[0] * d1**2 + g[1] * (-d1)**2 + g[2] * d2**2 + g[3] * (-d2)**2)\n",
    "eq4 = sp.Eq(rhs[3], g[0] * d1**3 + g[1] * (-d1)**3 + g[2] * d2**3 + g[3] * (-d2)**3)\n",
    "eq5 = sp.Eq(rhs[4], g[0] * d1**4 + g[1] * (-d1)**4 + g[2] * d2**4 + g[3] * (-d2)**4)\n",
    "eq6 = sp.Eq(rhs[5], g[0] * d1**5 + g[1] * (-d1)**5 + g[2] * d2**5 + g[3] * (-d2)**5)\n",
    "sol_D1Q4 = sp.solve([eq1, eq2, eq3, eq4, eq5, eq6], g[0], g[1], g[2], g[3], d1, d2)"
   ]
  },
  {
   "cell_type": "code",
   "execution_count": 81,
   "metadata": {},
   "outputs": [],
   "source": [
    "# display(sol_D1Q4[0][0], sol_D1Q4[0][1], sol_D1Q4[0][2], sol_D1Q4[0][3])\n",
    "# The solution of D1Q4 are too long to display!"
   ]
  },
  {
   "cell_type": "code",
   "execution_count": 82,
   "metadata": {},
   "outputs": [
    {
     "data": {
      "image/png": "[encoded data removed]",
      "text/latex": [
       "$\\displaystyle \\left[ \\sqrt{3 c^{2} - \\sqrt{2} c \\sqrt{3 c^{2} + 2 u^{2}} + u^{2}}, \\  \\sqrt{3 c^{2} + u^{2} - \\sqrt{6 c^{4} + 4 c^{2} u^{2}}}\\right]$"
      ],
      "text/plain": [
       "⎡    ___________________________________      ________________________________\n",
       "⎢   ╱                _____________           ╱                ________________\n",
       "⎢  ╱     2          ╱    2      2     2     ╱     2    2     ╱    4      2  2 \n",
       "⎣╲╱   3⋅c  - √2⋅c⋅╲╱  3⋅c  + 2⋅u   + u  , ╲╱   3⋅c  + u  - ╲╱  6⋅c  + 4⋅c ⋅u  \n",
       "\n",
       "_⎤\n",
       " ⎥\n",
       " ⎥\n",
       " ⎦"
      ]
     },
     "metadata": {},
     "output_type": "display_data"
    },
    {
     "data": {
      "image/png": "[encoded data removed]",
      "text/latex": [
       "$\\displaystyle \\left[ \\sqrt{3 c^{2} + \\sqrt{2} c \\sqrt{3 c^{2} + 2 u^{2}} + u^{2}}, \\  \\sqrt{3 c^{2} + u^{2} + \\sqrt{6 c^{4} + 4 c^{2} u^{2}}}\\right]$"
      ],
      "text/plain": [
       "⎡    ___________________________________      ________________________________\n",
       "⎢   ╱                _____________           ╱                ________________\n",
       "⎢  ╱     2          ╱    2      2     2     ╱     2    2     ╱    4      2  2 \n",
       "⎣╲╱   3⋅c  + √2⋅c⋅╲╱  3⋅c  + 2⋅u   + u  , ╲╱   3⋅c  + u  + ╲╱  6⋅c  + 4⋅c ⋅u  \n",
       "\n",
       "_⎤\n",
       " ⎥\n",
       " ⎥\n",
       " ⎦"
      ]
     },
     "metadata": {},
     "output_type": "display_data"
    }
   ],
   "source": [
    "display([sol_D1Q4[0][4], sp.sqrt(u**2 + 3*c**2 - sp.sqrt(4*(u*c)**2 + 6*c**4))])\n",
    "display([sol_D1Q4[0][5], sp.sqrt(u**2 + 3*c**2 + sp.sqrt(4*(u*c)**2 + 6*c**4))])"
   ]
  },
  {
   "cell_type": "markdown",
   "metadata": {},
   "source": [
    "Yes, these are the d_1, d_2 weights for the D1Q3 lattice as reported in [4]."
   ]
  },
  {
   "cell_type": "markdown",
   "metadata": {},
   "source": [
    "### D1Q5 Lattice"
   ]
  },
  {
   "cell_type": "code",
   "execution_count": 83,
   "metadata": {},
   "outputs": [],
   "source": [
    "eq1 = sp.Eq(rhs[0], g[0] + g[1] + g[2] + g[3] + g[4])\n",
    "eq2 = sp.Eq(rhs[1], g[1] * d1**1 + g[2] * (-d1)**1 + g[3] * d2**1 + g[4] * (-d2)**1)\n",
    "eq3 = sp.Eq(rhs[2], g[1] * d1**2 + g[2] * (-d1)**2 + g[3] * d2**2 + g[4] * (-d2)**2)\n",
    "eq4 = sp.Eq(rhs[3], g[1] * d1**3 + g[2] * (-d1)**3 + g[3] * d2**3 + g[4] * (-d2)**3)\n",
    "eq5 = sp.Eq(rhs[4], g[1] * d1**4 + g[2] * (-d1)**4 + g[3] * d2**4 + g[4] * (-d2)**4)\n",
    "eq6 = sp.Eq(rhs[5], g[1] * d1**5 + g[2] * (-d1)**5 + g[3] * d2**5 + g[4] * (-d2)**5)\n",
    "eq7 = sp.Eq(rhs[6], g[1] * d1**6 + g[2] * (-d1)**6 + g[3] * d2**6 + g[4] * (-d2)**6)\n",
    "sol_D1Q5 = sp.solve([eq1, eq2, eq3, eq4, eq5, eq6, eq7], g[0], g[1], g[2], g[3], g[4], d1, d2)"
   ]
  },
  {
   "cell_type": "code",
   "execution_count": 84,
   "metadata": {},
   "outputs": [
    {
     "data": {
      "image/png": "[encoded data removed]",
      "text/latex": [
       "$\\displaystyle \\frac{8 c^{4} \\rho}{15 c^{4} + 6 c^{2} u^{2} + u^{4}}$"
      ],
      "text/plain": [
       "          4         \n",
       "       8⋅c ⋅ρ       \n",
       "────────────────────\n",
       "    4      2  2    4\n",
       "15⋅c  + 6⋅c ⋅u  + u "
      ]
     },
     "execution_count": 84,
     "metadata": {},
     "output_type": "execute_result"
    }
   ],
   "source": [
    "sol_D1Q5[0][0]"
   ]
  },
  {
   "cell_type": "code",
   "execution_count": 85,
   "metadata": {},
   "outputs": [],
   "source": [
    "# display(sol_D1Q4[0][1], sol_D1Q4[0][2], sol_D1Q4[0][3], sol_D1Q4[0][4])\n",
    "# The solutions for g_1, g_2, g_3, g_4 are too long to display!"
   ]
  },
  {
   "cell_type": "code",
   "execution_count": 86,
   "metadata": {},
   "outputs": [
    {
     "data": {
      "image/png": "[encoded data removed]",
      "text/latex": [
       "$\\displaystyle \\left[ \\sqrt{5 c^{2} - \\sqrt{2} c \\sqrt{5 c^{2} + 2 u^{2}} + u^{2}}, \\  \\sqrt{5 c^{2} + u^{2} - \\sqrt{10 c^{4} + 4 c^{2} u^{2}}}\\right]$"
      ],
      "text/plain": [
       "⎡    ___________________________________      ________________________________\n",
       "⎢   ╱                _____________           ╱                ________________\n",
       "⎢  ╱     2          ╱    2      2     2     ╱     2    2     ╱     4      2  2\n",
       "⎣╲╱   5⋅c  - √2⋅c⋅╲╱  5⋅c  + 2⋅u   + u  , ╲╱   5⋅c  + u  - ╲╱  10⋅c  + 4⋅c ⋅u \n",
       "\n",
       "__⎤\n",
       "_ ⎥\n",
       "  ⎥\n",
       "  ⎦"
      ]
     },
     "metadata": {},
     "output_type": "display_data"
    },
    {
     "data": {
      "image/png": "[encoded data removed]",
      "text/latex": [
       "$\\displaystyle \\left[ \\sqrt{5 c^{2} + \\sqrt{2} c \\sqrt{5 c^{2} + 2 u^{2}} + u^{2}}, \\  \\sqrt{5 c^{2} + u^{2} + \\sqrt{10 c^{4} + 4 c^{2} u^{2}}}\\right]$"
      ],
      "text/plain": [
       "⎡    ___________________________________      ________________________________\n",
       "⎢   ╱                _____________           ╱                ________________\n",
       "⎢  ╱     2          ╱    2      2     2     ╱     2    2     ╱     4      2  2\n",
       "⎣╲╱   5⋅c  + √2⋅c⋅╲╱  5⋅c  + 2⋅u   + u  , ╲╱   5⋅c  + u  + ╲╱  10⋅c  + 4⋅c ⋅u \n",
       "\n",
       "__⎤\n",
       "_ ⎥\n",
       "  ⎥\n",
       "  ⎦"
      ]
     },
     "metadata": {},
     "output_type": "display_data"
    }
   ],
   "source": [
    "display([sol_D1Q5[0][5], sp.sqrt(u**2 + 5*c**2 - sp.sqrt(4*(u*c)**2 + 10*c**4))])\n",
    "display([sol_D1Q5[0][6], sp.sqrt(u**2 + 5*c**2 + sp.sqrt(4*(u*c)**2 + 10*c**4))])"
   ]
  },
  {
   "cell_type": "markdown",
   "metadata": {},
   "source": [
    "Yes, these are the d_1, d_2 weights for the D1Q3 lattice as reported in [4]."
   ]
  }
 ],
 "metadata": {
  "kernelspec": {
   "display_name": "base",
   "language": "python",
   "name": "python3"
  },
  "language_info": {
   "codemirror_mode": {
    "name": "ipython",
    "version": 3
   },
   "file_extension": ".py",
   "mimetype": "text/x-python",
   "name": "python",
   "nbconvert_exporter": "python",
   "pygments_lexer": "ipython3",
   "version": "3.10.9"
  }
 },
 "nbformat": 4,
 "nbformat_minor": 2
}
